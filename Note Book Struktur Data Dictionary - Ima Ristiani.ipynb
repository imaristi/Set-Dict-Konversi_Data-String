{
  "nbformat": 4,
  "nbformat_minor": 0,
  "metadata": {
    "colab": {
      "name": "Note Book Struktur Data Dictionary - Ima Ristiani.ipynb",
      "provenance": [],
      "collapsed_sections": []
    },
    "kernelspec": {
      "name": "python3",
      "display_name": "Python 3"
    },
    "language_info": {
      "name": "python"
    }
  },
  "cells": [
    {
      "cell_type": "markdown",
      "metadata": {
        "id": "iQ4haehhfmzH"
      },
      "source": [
        "**NAMA : IMA RISTIANI**\n",
        "\n",
        "**NIM : 2000015027**\n",
        "\n",
        "**PRODI : MATEMATIKA**"
      ]
    },
    {
      "cell_type": "markdown",
      "metadata": {
        "id": "tB0PCZEBf679"
      },
      "source": [
        "##Dictionary"
      ]
    },
    {
      "cell_type": "markdown",
      "metadata": {
        "id": "ks0P4PQRglV2"
      },
      "source": [
        "Dictionary pada Python adalah kumpulan pasangan kunci-nilai (pair of key-value) yang bersifat tidak berurutan. Dictionary dapat digunakan untuk menyimpan data kecil hingga besar. Untuk mengakses datanya, kita harus mengetahui kuncinya(key). Pada Python, dictionary didefinisikan dengan kurawal dan tambahan definisi berikut:\n",
        "\n",
        "* Setiap elemen pair key-value dipisahkan dengan koma(,).\n",
        "* Key dan Value dipisahkan dengan titik dua (:).\n",
        "* Key dan Value dapat berupa tipe variabel/obyek apapun.\n",
        "\n",
        "\n",
        "\n",
        "\n"
      ]
    },
    {
      "cell_type": "code",
      "metadata": {
        "colab": {
          "base_uri": "https://localhost:8080/"
        },
        "id": "aGfcQ9jZd_09",
        "outputId": "ef6b7019-ed0f-439f-fa76-dafda4efbf9e"
      },
      "source": [
        "L1 = [1, 'dua', True, (2+3j), (2+3j)]\n",
        "L1"
      ],
      "execution_count": 2,
      "outputs": [
        {
          "output_type": "execute_result",
          "data": {
            "text/plain": [
              "[1, 'dua', True, (2+3j), (2+3j)]"
            ]
          },
          "metadata": {},
          "execution_count": 2
        }
      ]
    },
    {
      "cell_type": "code",
      "metadata": {
        "colab": {
          "base_uri": "https://localhost:8080/"
        },
        "id": "hQhQDeZoiMeQ",
        "outputId": "e052e2ea-101b-478d-e9b6-b5d3e1a46ec8"
      },
      "source": [
        "# Contoh Dictionary\n",
        "D1 = {1:'value','key':2}\n",
        "print(D1)"
      ],
      "execution_count": 3,
      "outputs": [
        {
          "output_type": "stream",
          "name": "stdout",
          "text": [
            "{1: 'value', 'key': 2}\n"
          ]
        }
      ]
    },
    {
      "cell_type": "code",
      "metadata": {
        "colab": {
          "base_uri": "https://localhost:8080/"
        },
        "id": "6IZ3LAyliljK",
        "outputId": "466d6683-55b7-4304-fbfc-a07fee3a07c6"
      },
      "source": [
        "L1[0]"
      ],
      "execution_count": 4,
      "outputs": [
        {
          "output_type": "execute_result",
          "data": {
            "text/plain": [
              "1"
            ]
          },
          "metadata": {},
          "execution_count": 4
        }
      ]
    },
    {
      "cell_type": "code",
      "metadata": {
        "colab": {
          "base_uri": "https://localhost:8080/"
        },
        "id": "a9jR8elfipeQ",
        "outputId": "cb636143-7938-47a5-a891-c21d3a1f363d"
      },
      "source": [
        "D1['key']"
      ],
      "execution_count": 5,
      "outputs": [
        {
          "output_type": "execute_result",
          "data": {
            "text/plain": [
              "2"
            ]
          },
          "metadata": {},
          "execution_count": 5
        }
      ]
    },
    {
      "cell_type": "code",
      "metadata": {
        "colab": {
          "base_uri": "https://localhost:8080/"
        },
        "id": "9XE2iCbQitfA",
        "outputId": "f7d3a859-1563-47ec-e6fc-c7f7b97b81a4"
      },
      "source": [
        "# Memanggil Elemen Berdasarkan Key\n",
        "print(\"D1['key'] = \", D1['key']);"
      ],
      "execution_count": 6,
      "outputs": [
        {
          "output_type": "stream",
          "name": "stdout",
          "text": [
            "D1['key'] =  2\n"
          ]
        }
      ]
    },
    {
      "cell_type": "markdown",
      "metadata": {
        "id": "RU7dad5QjC7r"
      },
      "source": [
        "Dictionary bukan termasuk dalam implementasi urutan (sequences), sehingga tidak bisa dipanggil dengan urutan indeks. Misalnya dalam contoh berikut dicoba dengan indeks 2, tetapi menghasilkan error (KeyError) karena tidak ada kunci (key) 2:"
      ]
    },
    {
      "cell_type": "code",
      "metadata": {
        "colab": {
          "base_uri": "https://localhost:8080/",
          "height": 180
        },
        "id": "LG3I__IXjd0u",
        "outputId": "4aa1d9b3-aaed-421b-86d3-b028a48b1b09"
      },
      "source": [
        "# Nyobain Error\n",
        "print(\"D1[2] = \", D1[2]);"
      ],
      "execution_count": 7,
      "outputs": [
        {
          "output_type": "error",
          "ename": "KeyError",
          "evalue": "ignored",
          "traceback": [
            "\u001b[0;31m---------------------------------------------------------------------------\u001b[0m",
            "\u001b[0;31mKeyError\u001b[0m                                  Traceback (most recent call last)",
            "\u001b[0;32m<ipython-input-7-bc0481a0c720>\u001b[0m in \u001b[0;36m<module>\u001b[0;34m()\u001b[0m\n\u001b[1;32m      1\u001b[0m \u001b[0;31m# Nyobain Error\u001b[0m\u001b[0;34m\u001b[0m\u001b[0;34m\u001b[0m\u001b[0;34m\u001b[0m\u001b[0m\n\u001b[0;32m----> 2\u001b[0;31m \u001b[0mprint\u001b[0m\u001b[0;34m(\u001b[0m\u001b[0;34m\"D1[2] = \"\u001b[0m\u001b[0;34m,\u001b[0m \u001b[0mD1\u001b[0m\u001b[0;34m[\u001b[0m\u001b[0;36m2\u001b[0m\u001b[0;34m]\u001b[0m\u001b[0;34m)\u001b[0m\u001b[0;34m;\u001b[0m\u001b[0;34m\u001b[0m\u001b[0;34m\u001b[0m\u001b[0m\n\u001b[0m",
            "\u001b[0;31mKeyError\u001b[0m: 2"
          ]
        }
      ]
    }
  ]
}